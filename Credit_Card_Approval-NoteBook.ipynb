{
 "cells": [
  {
   "cell_type": "markdown",
   "metadata": {},
   "source": [
    "# Automating Credit Card Approvals\n",
    "> Dataset : http://archive.ics.uci.edu/ml/datasets/credit+approval\n",
    "\n",
    "> Automating the approval process of Credit Cards based on the behavior from past data."
   ]
  },
  {
   "cell_type": "code",
   "execution_count": 1,
   "metadata": {},
   "outputs": [],
   "source": [
    "import warnings\n",
    "warnings.filterwarnings('ignore')\n",
    "\n",
    "import pandas as pd\n",
    "import numpy as np\n",
    "import seaborn as sns\n",
    "import matplotlib.pyplot as plt\n",
    "%matplotlib inline"
   ]
  },
  {
   "cell_type": "markdown",
   "metadata": {},
   "source": [
    "### Read & Explore Data"
   ]
  },
  {
   "cell_type": "code",
   "execution_count": 2,
   "metadata": {},
   "outputs": [],
   "source": [
    "data=pd.read_csv('./datasets/crx.data',header=None)"
   ]
  },
  {
   "cell_type": "code",
   "execution_count": 3,
   "metadata": {},
   "outputs": [
    {
     "data": {
      "text/html": [
       "<div>\n",
       "<style scoped>\n",
       "    .dataframe tbody tr th:only-of-type {\n",
       "        vertical-align: middle;\n",
       "    }\n",
       "\n",
       "    .dataframe tbody tr th {\n",
       "        vertical-align: top;\n",
       "    }\n",
       "\n",
       "    .dataframe thead th {\n",
       "        text-align: right;\n",
       "    }\n",
       "</style>\n",
       "<table border=\"1\" class=\"dataframe\">\n",
       "  <thead>\n",
       "    <tr style=\"text-align: right;\">\n",
       "      <th></th>\n",
       "      <th>0</th>\n",
       "      <th>1</th>\n",
       "      <th>2</th>\n",
       "      <th>3</th>\n",
       "      <th>4</th>\n",
       "      <th>5</th>\n",
       "      <th>6</th>\n",
       "      <th>7</th>\n",
       "      <th>8</th>\n",
       "      <th>9</th>\n",
       "      <th>10</th>\n",
       "      <th>11</th>\n",
       "      <th>12</th>\n",
       "      <th>13</th>\n",
       "      <th>14</th>\n",
       "      <th>15</th>\n",
       "    </tr>\n",
       "  </thead>\n",
       "  <tbody>\n",
       "    <tr>\n",
       "      <th>0</th>\n",
       "      <td>b</td>\n",
       "      <td>30.83</td>\n",
       "      <td>0.000</td>\n",
       "      <td>u</td>\n",
       "      <td>g</td>\n",
       "      <td>w</td>\n",
       "      <td>v</td>\n",
       "      <td>1.25</td>\n",
       "      <td>t</td>\n",
       "      <td>t</td>\n",
       "      <td>1</td>\n",
       "      <td>f</td>\n",
       "      <td>g</td>\n",
       "      <td>00202</td>\n",
       "      <td>0</td>\n",
       "      <td>+</td>\n",
       "    </tr>\n",
       "    <tr>\n",
       "      <th>1</th>\n",
       "      <td>a</td>\n",
       "      <td>58.67</td>\n",
       "      <td>4.460</td>\n",
       "      <td>u</td>\n",
       "      <td>g</td>\n",
       "      <td>q</td>\n",
       "      <td>h</td>\n",
       "      <td>3.04</td>\n",
       "      <td>t</td>\n",
       "      <td>t</td>\n",
       "      <td>6</td>\n",
       "      <td>f</td>\n",
       "      <td>g</td>\n",
       "      <td>00043</td>\n",
       "      <td>560</td>\n",
       "      <td>+</td>\n",
       "    </tr>\n",
       "    <tr>\n",
       "      <th>2</th>\n",
       "      <td>a</td>\n",
       "      <td>24.50</td>\n",
       "      <td>0.500</td>\n",
       "      <td>u</td>\n",
       "      <td>g</td>\n",
       "      <td>q</td>\n",
       "      <td>h</td>\n",
       "      <td>1.50</td>\n",
       "      <td>t</td>\n",
       "      <td>f</td>\n",
       "      <td>0</td>\n",
       "      <td>f</td>\n",
       "      <td>g</td>\n",
       "      <td>00280</td>\n",
       "      <td>824</td>\n",
       "      <td>+</td>\n",
       "    </tr>\n",
       "    <tr>\n",
       "      <th>3</th>\n",
       "      <td>b</td>\n",
       "      <td>27.83</td>\n",
       "      <td>1.540</td>\n",
       "      <td>u</td>\n",
       "      <td>g</td>\n",
       "      <td>w</td>\n",
       "      <td>v</td>\n",
       "      <td>3.75</td>\n",
       "      <td>t</td>\n",
       "      <td>t</td>\n",
       "      <td>5</td>\n",
       "      <td>t</td>\n",
       "      <td>g</td>\n",
       "      <td>00100</td>\n",
       "      <td>3</td>\n",
       "      <td>+</td>\n",
       "    </tr>\n",
       "    <tr>\n",
       "      <th>4</th>\n",
       "      <td>b</td>\n",
       "      <td>20.17</td>\n",
       "      <td>5.625</td>\n",
       "      <td>u</td>\n",
       "      <td>g</td>\n",
       "      <td>w</td>\n",
       "      <td>v</td>\n",
       "      <td>1.71</td>\n",
       "      <td>t</td>\n",
       "      <td>f</td>\n",
       "      <td>0</td>\n",
       "      <td>f</td>\n",
       "      <td>s</td>\n",
       "      <td>00120</td>\n",
       "      <td>0</td>\n",
       "      <td>+</td>\n",
       "    </tr>\n",
       "  </tbody>\n",
       "</table>\n",
       "</div>"
      ],
      "text/plain": [
       "  0      1      2  3  4  5  6     7  8  9   10 11 12     13   14 15\n",
       "0  b  30.83  0.000  u  g  w  v  1.25  t  t   1  f  g  00202    0  +\n",
       "1  a  58.67  4.460  u  g  q  h  3.04  t  t   6  f  g  00043  560  +\n",
       "2  a  24.50  0.500  u  g  q  h  1.50  t  f   0  f  g  00280  824  +\n",
       "3  b  27.83  1.540  u  g  w  v  3.75  t  t   5  t  g  00100    3  +\n",
       "4  b  20.17  5.625  u  g  w  v  1.71  t  f   0  f  s  00120    0  +"
      ]
     },
     "execution_count": 3,
     "metadata": {},
     "output_type": "execute_result"
    }
   ],
   "source": [
    "data.head()"
   ]
  },
  {
   "cell_type": "code",
   "execution_count": 4,
   "metadata": {},
   "outputs": [
    {
     "data": {
      "text/plain": [
       "(690, 16)"
      ]
     },
     "execution_count": 4,
     "metadata": {},
     "output_type": "execute_result"
    }
   ],
   "source": [
    "data.shape"
   ]
  },
  {
   "cell_type": "code",
   "execution_count": 5,
   "metadata": {},
   "outputs": [
    {
     "name": "stdout",
     "output_type": "stream",
     "text": [
      "<class 'pandas.core.frame.DataFrame'>\n",
      "RangeIndex: 690 entries, 0 to 689\n",
      "Data columns (total 16 columns):\n",
      "0     690 non-null object\n",
      "1     690 non-null object\n",
      "2     690 non-null float64\n",
      "3     690 non-null object\n",
      "4     690 non-null object\n",
      "5     690 non-null object\n",
      "6     690 non-null object\n",
      "7     690 non-null float64\n",
      "8     690 non-null object\n",
      "9     690 non-null object\n",
      "10    690 non-null int64\n",
      "11    690 non-null object\n",
      "12    690 non-null object\n",
      "13    690 non-null object\n",
      "14    690 non-null int64\n",
      "15    690 non-null object\n",
      "dtypes: float64(2), int64(2), object(12)\n",
      "memory usage: 86.3+ KB\n"
     ]
    }
   ],
   "source": [
    "data.info()"
   ]
  },
  {
   "cell_type": "markdown",
   "metadata": {},
   "source": [
    "###### <font color=green> __Observation:__ </font> Column '1' & '13' has numbers, but are classified as 'object'\n",
    "* We will convert column '1' to numeric. By doing so, we will also try capturing the non-numeric values which led to classify the column as 'object'"
   ]
  },
  {
   "cell_type": "code",
   "execution_count": 6,
   "metadata": {},
   "outputs": [],
   "source": [
    "data['1_int']=data[1].copy() #Creating a duplicate column"
   ]
  },
  {
   "cell_type": "code",
   "execution_count": 7,
   "metadata": {},
   "outputs": [
    {
     "data": {
      "text/plain": [
       "['?']"
      ]
     },
     "execution_count": 7,
     "metadata": {},
     "output_type": "execute_result"
    }
   ],
   "source": [
    "data[1]=pd.to_numeric(data[1], errors='coerce')\n",
    "missing_value = list(data[data[1].isna()]['1_int'].unique())\n",
    "missing_value # list of non-numeric values"
   ]
  },
  {
   "cell_type": "code",
   "execution_count": 8,
   "metadata": {},
   "outputs": [],
   "source": [
    "data.drop(columns = '1_int',inplace=True) #dropping duplicate column"
   ]
  },
  {
   "cell_type": "markdown",
   "metadata": {},
   "source": [
    "> ##### Same steps to column '13'"
   ]
  },
  {
   "cell_type": "code",
   "execution_count": 9,
   "metadata": {},
   "outputs": [],
   "source": [
    "data['13_int']=data[13].copy()"
   ]
  },
  {
   "cell_type": "code",
   "execution_count": 10,
   "metadata": {},
   "outputs": [
    {
     "data": {
      "text/plain": [
       "array(['?'], dtype=object)"
      ]
     },
     "execution_count": 10,
     "metadata": {},
     "output_type": "execute_result"
    }
   ],
   "source": [
    "data[13]=pd.to_numeric(data[13], errors='coerce')\n",
    "#data[1].isna().sum()\n",
    "#print(data[data[1].isna()]['1_int'].unique())\n",
    "missing_value2 = data[data[13].isna()]['13_int'].unique()\n",
    "missing_value2"
   ]
  },
  {
   "cell_type": "markdown",
   "metadata": {},
   "source": [
    "##### <font color=green> __Observation:__ </font> We find that '?' indicates missing values in columns '1' & '13'"
   ]
  },
  {
   "cell_type": "code",
   "execution_count": 11,
   "metadata": {},
   "outputs": [],
   "source": [
    "data.drop(columns = '13_int',inplace=True) #dropping duplicate column"
   ]
  },
  {
   "cell_type": "markdown",
   "metadata": {},
   "source": [
    "### A look at remaining 'object' columns"
   ]
  },
  {
   "cell_type": "code",
   "execution_count": 12,
   "metadata": {},
   "outputs": [
    {
     "name": "stdout",
     "output_type": "stream",
     "text": [
      "b    468\n",
      "a    210\n",
      "?     12\n",
      "Name: 0, dtype: int64\n",
      "u    519\n",
      "y    163\n",
      "?      6\n",
      "l      2\n",
      "Name: 3, dtype: int64\n",
      "g     519\n",
      "p     163\n",
      "?       6\n",
      "gg      2\n",
      "Name: 4, dtype: int64\n",
      "c     137\n",
      "q      78\n",
      "w      64\n",
      "i      59\n",
      "aa     54\n",
      "ff     53\n",
      "k      51\n",
      "cc     41\n",
      "m      38\n",
      "x      38\n",
      "d      30\n",
      "e      25\n",
      "j      10\n",
      "?       9\n",
      "r       3\n",
      "Name: 5, dtype: int64\n",
      "v     399\n",
      "h     138\n",
      "bb     59\n",
      "ff     57\n",
      "?       9\n",
      "j       8\n",
      "z       8\n",
      "dd      6\n",
      "n       4\n",
      "o       2\n",
      "Name: 6, dtype: int64\n",
      "t    361\n",
      "f    329\n",
      "Name: 8, dtype: int64\n",
      "f    395\n",
      "t    295\n",
      "Name: 9, dtype: int64\n",
      "f    374\n",
      "t    316\n",
      "Name: 11, dtype: int64\n",
      "g    625\n",
      "s     57\n",
      "p      8\n",
      "Name: 12, dtype: int64\n",
      "-    383\n",
      "+    307\n",
      "Name: 15, dtype: int64\n"
     ]
    }
   ],
   "source": [
    "object_columns = [data.columns[i] for i in data.columns if data[i].dtype=='object']\n",
    "object_columns\n",
    "for i in object_columns:\n",
    "    print(data[i].value_counts())"
   ]
  },
  {
   "cell_type": "markdown",
   "metadata": {},
   "source": [
    "##### <font color=green> __Observation:__ </font> In all 'object' columns, it's the '?' which represents missing values"
   ]
  },
  {
   "cell_type": "code",
   "execution_count": 13,
   "metadata": {},
   "outputs": [
    {
     "name": "stdout",
     "output_type": "stream",
     "text": [
      "?    12\n",
      "Name: 0, dtype: int64\n",
      "?    6\n",
      "Name: 3, dtype: int64\n",
      "?    6\n",
      "Name: 4, dtype: int64\n",
      "?    9\n",
      "Name: 5, dtype: int64\n",
      "?    9\n",
      "Name: 6, dtype: int64\n",
      "Series([], Name: 8, dtype: int64)\n",
      "Series([], Name: 9, dtype: int64)\n",
      "Series([], Name: 11, dtype: int64)\n",
      "Series([], Name: 12, dtype: int64)\n",
      "Series([], Name: 15, dtype: int64)\n"
     ]
    }
   ],
   "source": [
    "#LISTING COLUMN VALUES WITH '?'\n",
    "object_columns = [data.columns[i] for i in data.columns if data[i].dtype=='object']\n",
    "object_columns\n",
    "for i in object_columns:\n",
    "    print(data[i].value_counts()[data[i].value_counts().index=='?'])"
   ]
  },
  {
   "cell_type": "markdown",
   "metadata": {},
   "source": [
    "### Replacing '?' with NaN\n",
    "For Python to identify missing values, it needs to be 'NaN'. So, We replace all '?' to 'NaN'"
   ]
  },
  {
   "cell_type": "code",
   "execution_count": 14,
   "metadata": {},
   "outputs": [
    {
     "data": {
      "text/plain": [
       "0     12\n",
       "1     12\n",
       "2      0\n",
       "3      6\n",
       "4      6\n",
       "5      9\n",
       "6      9\n",
       "7      0\n",
       "8      0\n",
       "9      0\n",
       "10     0\n",
       "11     0\n",
       "12     0\n",
       "13    13\n",
       "14     0\n",
       "15     0\n",
       "dtype: int64"
      ]
     },
     "execution_count": 14,
     "metadata": {},
     "output_type": "execute_result"
    }
   ],
   "source": [
    "data.replace(\"?\",np.nan,inplace=True)\n",
    "data.isna().sum()"
   ]
  },
  {
   "cell_type": "code",
   "execution_count": 15,
   "metadata": {},
   "outputs": [
    {
     "data": {
      "text/html": [
       "<div>\n",
       "<style scoped>\n",
       "    .dataframe tbody tr th:only-of-type {\n",
       "        vertical-align: middle;\n",
       "    }\n",
       "\n",
       "    .dataframe tbody tr th {\n",
       "        vertical-align: top;\n",
       "    }\n",
       "\n",
       "    .dataframe thead th {\n",
       "        text-align: right;\n",
       "    }\n",
       "</style>\n",
       "<table border=\"1\" class=\"dataframe\">\n",
       "  <thead>\n",
       "    <tr style=\"text-align: right;\">\n",
       "      <th></th>\n",
       "      <th>1</th>\n",
       "      <th>2</th>\n",
       "      <th>7</th>\n",
       "      <th>10</th>\n",
       "      <th>13</th>\n",
       "      <th>14</th>\n",
       "    </tr>\n",
       "  </thead>\n",
       "  <tbody>\n",
       "    <tr>\n",
       "      <th>count</th>\n",
       "      <td>678.000000</td>\n",
       "      <td>690.000000</td>\n",
       "      <td>690.000000</td>\n",
       "      <td>690.00000</td>\n",
       "      <td>677.000000</td>\n",
       "      <td>690.000000</td>\n",
       "    </tr>\n",
       "    <tr>\n",
       "      <th>mean</th>\n",
       "      <td>31.568171</td>\n",
       "      <td>4.758725</td>\n",
       "      <td>2.223406</td>\n",
       "      <td>2.40000</td>\n",
       "      <td>184.014771</td>\n",
       "      <td>1017.385507</td>\n",
       "    </tr>\n",
       "    <tr>\n",
       "      <th>std</th>\n",
       "      <td>11.957862</td>\n",
       "      <td>4.978163</td>\n",
       "      <td>3.346513</td>\n",
       "      <td>4.86294</td>\n",
       "      <td>173.806768</td>\n",
       "      <td>5210.102598</td>\n",
       "    </tr>\n",
       "    <tr>\n",
       "      <th>min</th>\n",
       "      <td>13.750000</td>\n",
       "      <td>0.000000</td>\n",
       "      <td>0.000000</td>\n",
       "      <td>0.00000</td>\n",
       "      <td>0.000000</td>\n",
       "      <td>0.000000</td>\n",
       "    </tr>\n",
       "    <tr>\n",
       "      <th>25%</th>\n",
       "      <td>22.602500</td>\n",
       "      <td>1.000000</td>\n",
       "      <td>0.165000</td>\n",
       "      <td>0.00000</td>\n",
       "      <td>75.000000</td>\n",
       "      <td>0.000000</td>\n",
       "    </tr>\n",
       "    <tr>\n",
       "      <th>50%</th>\n",
       "      <td>28.460000</td>\n",
       "      <td>2.750000</td>\n",
       "      <td>1.000000</td>\n",
       "      <td>0.00000</td>\n",
       "      <td>160.000000</td>\n",
       "      <td>5.000000</td>\n",
       "    </tr>\n",
       "    <tr>\n",
       "      <th>75%</th>\n",
       "      <td>38.230000</td>\n",
       "      <td>7.207500</td>\n",
       "      <td>2.625000</td>\n",
       "      <td>3.00000</td>\n",
       "      <td>276.000000</td>\n",
       "      <td>395.500000</td>\n",
       "    </tr>\n",
       "    <tr>\n",
       "      <th>max</th>\n",
       "      <td>80.250000</td>\n",
       "      <td>28.000000</td>\n",
       "      <td>28.500000</td>\n",
       "      <td>67.00000</td>\n",
       "      <td>2000.000000</td>\n",
       "      <td>100000.000000</td>\n",
       "    </tr>\n",
       "  </tbody>\n",
       "</table>\n",
       "</div>"
      ],
      "text/plain": [
       "               1           2           7          10           13  \\\n",
       "count  678.000000  690.000000  690.000000  690.00000   677.000000   \n",
       "mean    31.568171    4.758725    2.223406    2.40000   184.014771   \n",
       "std     11.957862    4.978163    3.346513    4.86294   173.806768   \n",
       "min     13.750000    0.000000    0.000000    0.00000     0.000000   \n",
       "25%     22.602500    1.000000    0.165000    0.00000    75.000000   \n",
       "50%     28.460000    2.750000    1.000000    0.00000   160.000000   \n",
       "75%     38.230000    7.207500    2.625000    3.00000   276.000000   \n",
       "max     80.250000   28.000000   28.500000   67.00000  2000.000000   \n",
       "\n",
       "                  14  \n",
       "count     690.000000  \n",
       "mean     1017.385507  \n",
       "std      5210.102598  \n",
       "min         0.000000  \n",
       "25%         0.000000  \n",
       "50%         5.000000  \n",
       "75%       395.500000  \n",
       "max    100000.000000  "
      ]
     },
     "execution_count": 15,
     "metadata": {},
     "output_type": "execute_result"
    }
   ],
   "source": [
    "data.describe()"
   ]
  },
  {
   "cell_type": "markdown",
   "metadata": {},
   "source": [
    "### Handling missing values (NaNs)\n",
    "\n",
    "* Numeric values : Based on the 5-number summary, the data is right skewed. So, filling missing values with 'median' is better than 'mean'. (Mean will be afected by the range, but not median)\n",
    "* Categorical values : We'll fill missing values with the 'mode' - most frequently occuring value"
   ]
  },
  {
   "cell_type": "code",
   "execution_count": 16,
   "metadata": {},
   "outputs": [
    {
     "data": {
      "text/plain": [
       "0     12\n",
       "1      0\n",
       "2      0\n",
       "3      6\n",
       "4      6\n",
       "5      9\n",
       "6      9\n",
       "7      0\n",
       "8      0\n",
       "9      0\n",
       "10     0\n",
       "11     0\n",
       "12     0\n",
       "13     0\n",
       "14     0\n",
       "15     0\n",
       "dtype: int64"
      ]
     },
     "execution_count": 16,
     "metadata": {},
     "output_type": "execute_result"
    }
   ],
   "source": [
    "#Filling NaNs in numeric fields with Median\n",
    "data.fillna(data[[1,13]].median(),inplace=True)\n",
    "data.isna().sum()"
   ]
  },
  {
   "cell_type": "code",
   "execution_count": 17,
   "metadata": {},
   "outputs": [
    {
     "data": {
      "text/plain": [
       "0     0\n",
       "1     0\n",
       "2     0\n",
       "3     0\n",
       "4     0\n",
       "5     0\n",
       "6     0\n",
       "7     0\n",
       "8     0\n",
       "9     0\n",
       "10    0\n",
       "11    0\n",
       "12    0\n",
       "13    0\n",
       "14    0\n",
       "15    0\n",
       "dtype: int64"
      ]
     },
     "execution_count": 17,
     "metadata": {},
     "output_type": "execute_result"
    }
   ],
   "source": [
    "#Filling NaNs in categorical fields with most frequent value\n",
    "for col in list(data.select_dtypes(include=['object']).columns):\n",
    "    if data[col].dtype=='object':\n",
    "        data = data.apply(lambda x: x.fillna(x.value_counts().index[0]))\n",
    "    \n",
    "data.isna().sum()"
   ]
  },
  {
   "cell_type": "markdown",
   "metadata": {},
   "source": [
    "##### <font color=green> __Observation:__ </font> No missing values"
   ]
  },
  {
   "cell_type": "markdown",
   "metadata": {},
   "source": [
    "### Data Pre-processing <br>\n",
    "__NOTE:__ Machine Learning Models run on numeric values"
   ]
  },
  {
   "cell_type": "markdown",
   "metadata": {},
   "source": [
    "#### Handling Numeric values\n",
    "* Highly correlated numeric values will reduce the prediction power, so we have to drop them."
   ]
  },
  {
   "cell_type": "code",
   "execution_count": 18,
   "metadata": {},
   "outputs": [
    {
     "data": {
      "text/plain": [
       "<matplotlib.axes._subplots.AxesSubplot at 0x1b2e0ffbb70>"
      ]
     },
     "execution_count": 18,
     "metadata": {},
     "output_type": "execute_result"
    },
    {
     "data": {
      "image/png": "[encoded data removed]",
      "text/plain": [
       "<Figure size 432x288 with 2 Axes>"
      ]
     },
     "metadata": {
      "needs_background": "light"
     },
     "output_type": "display_data"
    }
   ],
   "source": [
    "sns.heatmap(data.corr(),annot=True)"
   ]
  },
  {
   "cell_type": "markdown",
   "metadata": {},
   "source": [
    "##### <font color=green> __Observation:__ </font> We don't have highly correlated numeric columns"
   ]
  },
  {
   "cell_type": "markdown",
   "metadata": {},
   "source": [
    "#### Handling categorical Variables\n",
    "- We see a number of categorical variables with multiple classes.\n",
    "- There are different types of handling categorical variables each with it's own pros and cons.\n",
    "- To get the best of each,\n",
    "    1. For columns with just 2 categories, we use <font color=blue>LabelEncoder</font>:\n",
    "    > LabelEncoder assigns numeric values to each class. With more than 2 classes, for example, the class with value '10' will be assigned 10x the importance when compared to the class with value '1'. This would induce bias in the model.\n",
    "    2. For columns with 3 categories, we make use of <font color=blue>LabelBinarizer</font> to one-hot encode each class.\n",
    "    >One-hot encoding eliminates the problem of 'LabelEncoder' since each class will have a separate column known as __dummy/indicator variables__ with '1's and '0's. But this method will lead to more dimensions (curse of dimensionality)\n",
    "    3. For columns with more than 3 categories, <font color=blue>Category_Encoders</font> helps to deal mitigate the _curse of dimensionality_.\n",
    "    > This codes each class into binary digits and separates each digit into columns.<br><br>\n",
    "    > Example: Suppose there are 8 classes in a column, the values assigned would be 1 through 8.\n",
    "    > Binary digit to represent 8 is 1000, so 4 columns will be created unlike one-hot encoding which will create 7 columns."
   ]
  },
  {
   "cell_type": "code",
   "execution_count": 19,
   "metadata": {},
   "outputs": [
    {
     "name": "stdout",
     "output_type": "stream",
     "text": [
      "b    480\n",
      "a    210\n",
      "Name: 0, dtype: int64\n",
      "u    525\n",
      "y    163\n",
      "l      2\n",
      "Name: 3, dtype: int64\n",
      "g     525\n",
      "p     163\n",
      "gg      2\n",
      "Name: 4, dtype: int64\n",
      "c     146\n",
      "q      78\n",
      "w      64\n",
      "i      59\n",
      "aa     54\n",
      "ff     53\n",
      "k      51\n",
      "cc     41\n",
      "m      38\n",
      "x      38\n",
      "d      30\n",
      "e      25\n",
      "j      10\n",
      "r       3\n",
      "Name: 5, dtype: int64\n",
      "v     408\n",
      "h     138\n",
      "bb     59\n",
      "ff     57\n",
      "j       8\n",
      "z       8\n",
      "dd      6\n",
      "n       4\n",
      "o       2\n",
      "Name: 6, dtype: int64\n",
      "t    361\n",
      "f    329\n",
      "Name: 8, dtype: int64\n",
      "f    395\n",
      "t    295\n",
      "Name: 9, dtype: int64\n",
      "f    374\n",
      "t    316\n",
      "Name: 11, dtype: int64\n",
      "g    625\n",
      "s     57\n",
      "p      8\n",
      "Name: 12, dtype: int64\n",
      "-    383\n",
      "+    307\n",
      "Name: 15, dtype: int64\n"
     ]
    }
   ],
   "source": [
    "for col in data.columns:\n",
    "    if data[col].dtype=='object':\n",
    "        print(data[col].value_counts())"
   ]
  },
  {
   "cell_type": "code",
   "execution_count": 20,
   "metadata": {},
   "outputs": [],
   "source": [
    "from sklearn.preprocessing import LabelEncoder\n",
    "from sklearn.preprocessing import LabelBinarizer\n",
    "\n",
    "\n",
    "le=LabelEncoder()\n",
    "for col in data.columns:\n",
    "    # Compare if the dtype is object\n",
    "    if data[col].dtype=='object' and (data[col].value_counts().count()<3):\n",
    "    # Use LabelEncoder to do the numeric transformation\n",
    "        data[col]=le.fit_transform(data[col])\n",
    "\n",
    "lb=LabelBinarizer()\n",
    "for col in data.columns:\n",
    "    # Compare if the dtype is object\n",
    "    if data[col].dtype=='object' and (data[col].value_counts().count()<4):\n",
    "        data[col] = lb.fit_transform(data[col])\n"
   ]
  },
  {
   "cell_type": "code",
   "execution_count": 21,
   "metadata": {},
   "outputs": [],
   "source": [
    "#Category_Encoders\n",
    "import category_encoders as ce\n",
    "\n",
    "encoder = ce.BinaryEncoder(cols=[col for col in data.columns if (data[col].dtype=='object')])\n",
    "data_binary = encoder.fit_transform(data)"
   ]
  },
  {
   "cell_type": "code",
   "execution_count": 22,
   "metadata": {},
   "outputs": [
    {
     "name": "stdout",
     "output_type": "stream",
     "text": [
      "<class 'pandas.core.frame.DataFrame'>\n",
      "RangeIndex: 690 entries, 0 to 689\n",
      "Data columns (total 24 columns):\n",
      "0      690 non-null int32\n",
      "1      690 non-null float64\n",
      "2      690 non-null float64\n",
      "3      690 non-null int32\n",
      "4      690 non-null int32\n",
      "5_0    690 non-null int64\n",
      "5_1    690 non-null int64\n",
      "5_2    690 non-null int64\n",
      "5_3    690 non-null int64\n",
      "5_4    690 non-null int64\n",
      "6_0    690 non-null int64\n",
      "6_1    690 non-null int64\n",
      "6_2    690 non-null int64\n",
      "6_3    690 non-null int64\n",
      "6_4    690 non-null int64\n",
      "7      690 non-null float64\n",
      "8      690 non-null int32\n",
      "9      690 non-null int32\n",
      "10     690 non-null int64\n",
      "11     690 non-null int32\n",
      "12     690 non-null int32\n",
      "13     690 non-null float64\n",
      "14     690 non-null int64\n",
      "15     690 non-null int32\n",
      "dtypes: float64(4), int32(8), int64(12)\n",
      "memory usage: 107.9 KB\n"
     ]
    }
   ],
   "source": [
    "data_binary.info()"
   ]
  },
  {
   "cell_type": "markdown",
   "metadata": {},
   "source": [
    "### Scaling\n",
    "In simple terms, to prevent the model to assign higher importance to large numeric values _(such as salary over age)_ we transform all columns into the range of \"0 to 1\"."
   ]
  },
  {
   "cell_type": "code",
   "execution_count": 23,
   "metadata": {},
   "outputs": [],
   "source": [
    "from sklearn.preprocessing import MinMaxScaler\n",
    "from sklearn.preprocessing import LabelEncoder"
   ]
  },
  {
   "cell_type": "code",
   "execution_count": 24,
   "metadata": {},
   "outputs": [],
   "source": [
    "#COVERTING PANDAS DATAFRAME INTO NUMPY ARRAY\n",
    "data_binary_array = data_binary.values\n",
    "\n",
    "#SPLITTING 'Predictors' AND 'The Predicted'\n",
    "X,y = data_binary_array[:,0:-1] , data_binary_array[:,-1]\n",
    "\n",
    "scaler = MinMaxScaler(feature_range=(0, 1))\n",
    "rescaledX = scaler.fit_transform(X)"
   ]
  },
  {
   "cell_type": "code",
   "execution_count": 25,
   "metadata": {},
   "outputs": [
    {
     "data": {
      "text/plain": [
       "array([1.        , 0.25684211, 0.        , 0.        , 1.        ,\n",
       "       0.        , 0.        , 0.        , 0.        , 1.        ,\n",
       "       0.        , 0.        , 0.        , 0.        , 1.        ,\n",
       "       0.04385965, 1.        , 1.        , 0.01492537, 0.        ,\n",
       "       1.        , 0.101     , 0.        ])"
      ]
     },
     "execution_count": 25,
     "metadata": {},
     "output_type": "execute_result"
    }
   ],
   "source": [
    "rescaledX[0] #First row of numpy array"
   ]
  },
  {
   "cell_type": "code",
   "execution_count": 26,
   "metadata": {},
   "outputs": [],
   "source": [
    "#SPLIT DATASET INTO TRAIN AND TEST\n",
    "from sklearn.model_selection import train_test_split\n",
    "\n",
    "X_train, rescaledX_test, y_train, y_test= train_test_split(rescaledX,\n",
    "                                y,\n",
    "                                test_size=.25,\n",
    "                                random_state=0)"
   ]
  },
  {
   "cell_type": "markdown",
   "metadata": {},
   "source": [
    "### Logistic Regression"
   ]
  },
  {
   "cell_type": "code",
   "execution_count": 27,
   "metadata": {},
   "outputs": [
    {
     "data": {
      "text/plain": [
       "LogisticRegression(C=1.0, class_weight=None, dual=False, fit_intercept=True,\n",
       "          intercept_scaling=1, max_iter=100, multi_class='warn',\n",
       "          n_jobs=None, penalty='l2', random_state=None, solver='warn',\n",
       "          tol=0.0001, verbose=0, warm_start=False)"
      ]
     },
     "execution_count": 27,
     "metadata": {},
     "output_type": "execute_result"
    }
   ],
   "source": [
    "from sklearn.linear_model import LogisticRegression\n",
    "logreg = LogisticRegression()\n",
    "logreg.fit(X_train,y_train)"
   ]
  },
  {
   "cell_type": "code",
   "execution_count": 28,
   "metadata": {},
   "outputs": [
    {
     "name": "stdout",
     "output_type": "stream",
     "text": [
      "Accuracy of logistic regression classifier:  0.8670520231213873\n"
     ]
    },
    {
     "data": {
      "text/plain": [
       "array([[70,  9],\n",
       "       [14, 80]], dtype=int64)"
      ]
     },
     "execution_count": 28,
     "metadata": {},
     "output_type": "execute_result"
    }
   ],
   "source": [
    "from sklearn.metrics import confusion_matrix\n",
    "y_pred = logreg.predict(rescaledX_test)\n",
    "print(\"Accuracy of logistic regression classifier: \", logreg.score(rescaledX_test,y_test))\n",
    "confusion_matrix(y_test,y_pred)"
   ]
  },
  {
   "cell_type": "markdown",
   "metadata": {},
   "source": [
    "### Grid Search CV - Decision Tree"
   ]
  },
  {
   "cell_type": "code",
   "execution_count": 29,
   "metadata": {},
   "outputs": [],
   "source": [
    "from sklearn import tree\n",
    "dtc = tree.DecisionTreeClassifier()\n",
    "clf = dtc.fit(rescaledX,y)"
   ]
  },
  {
   "cell_type": "code",
   "execution_count": 30,
   "metadata": {},
   "outputs": [],
   "source": [
    "dtc_param_grid={'min_samples_split' : range(2,10,1),'max_depth': range(1,10,1)}"
   ]
  },
  {
   "cell_type": "code",
   "execution_count": 31,
   "metadata": {},
   "outputs": [
    {
     "name": "stdout",
     "output_type": "stream",
     "text": [
      "Best: 0.855072 using {'max_depth': 1, 'min_samples_split': 2}\n"
     ]
    },
    {
     "name": "stderr",
     "output_type": "stream",
     "text": [
      "C:\\Users\\mahee\\Anaconda3\\lib\\site-packages\\sklearn\\model_selection\\_search.py:841: DeprecationWarning: The default of the `iid` parameter will change from True to False in version 0.22 and will be removed in 0.24. This will change numeric results when test-set sizes are unequal.\n",
      "  DeprecationWarning)\n"
     ]
    }
   ],
   "source": [
    "from sklearn.model_selection import GridSearchCV\n",
    "\n",
    "dtc_grid_model = GridSearchCV(estimator=dtc, param_grid=dtc_param_grid, cv=5)\n",
    "dtc_grid_model_result = dtc_grid_model.fit(rescaledX, y)\n",
    "best_score, best_params = dtc_grid_model_result.best_score_,dtc_grid_model_result.best_params_\n",
    "print(\"Best: %f using %s\" % (best_score, best_params))"
   ]
  },
  {
   "cell_type": "markdown",
   "metadata": {},
   "source": [
    "To __Conclude__, we explored data cleaning and built 2 models to predict credit card approvals with an accuracy close to __86%__"
   ]
  }
 ],
 "metadata": {
  "kernelspec": {
   "display_name": "Python 3",
   "language": "python",
   "name": "python3"
  },
  "language_info": {
   "codemirror_mode": {
    "name": "ipython",
    "version": 3
   },
   "file_extension": ".py",
   "mimetype": "text/x-python",
   "name": "python",
   "nbconvert_exporter": "python",
   "pygments_lexer": "ipython3",
   "version": "3.7.0"
  }
 },
 "nbformat": 4,
 "nbformat_minor": 2
}
